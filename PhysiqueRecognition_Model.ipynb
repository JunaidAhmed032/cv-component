{
 "cells": [
  {
   "cell_type": "code",
   "execution_count": null,
   "metadata": {
    "collapsed": true,
    "pycharm": {
     "is_executing": true
    }
   },
   "outputs": [],
   "source": [
    "import os\n",
    "import cv2\n",
    "import pandas as pd\n",
    "import tensorflow as tf\n",
    "from keras import Sequential\n",
    "from keras.layers import Conv2D, MaxPooling2D, Dropout, Flatten, Dense\n",
    "from matplotlib import pyplot as plt\n",
    "from sklearn.model_selection import train_test_split\n",
    "from keras.preprocessing.image import ImageDataGenerator"
   ]
  },
  {
   "cell_type": "code",
   "execution_count": 2,
   "metadata": {
    "pycharm": {
     "name": "#%%\n"
    }
   },
   "outputs": [
    {
     "data": {
      "text/html": [
       "<div>\n",
       "<style scoped>\n",
       "    .dataframe tbody tr th:only-of-type {\n",
       "        vertical-align: middle;\n",
       "    }\n",
       "\n",
       "    .dataframe tbody tr th {\n",
       "        vertical-align: top;\n",
       "    }\n",
       "\n",
       "    .dataframe thead th {\n",
       "        text-align: right;\n",
       "    }\n",
       "</style>\n",
       "<table border=\"1\" class=\"dataframe\">\n",
       "  <thead>\n",
       "    <tr style=\"text-align: right;\">\n",
       "      <th></th>\n",
       "      <th>0</th>\n",
       "    </tr>\n",
       "  </thead>\n",
       "  <tbody>\n",
       "    <tr>\n",
       "      <th>0</th>\n",
       "      <td>C:\\Users\\mudas\\Desktop\\Images\\Healthy\\3.jpg</td>\n",
       "    </tr>\n",
       "    <tr>\n",
       "      <th>1</th>\n",
       "      <td>C:\\Users\\mudas\\Desktop\\Images\\Healthy\\5.jpg</td>\n",
       "    </tr>\n",
       "    <tr>\n",
       "      <th>2</th>\n",
       "      <td>C:\\Users\\mudas\\Desktop\\Images\\Healthy\\7.jpg</td>\n",
       "    </tr>\n",
       "    <tr>\n",
       "      <th>3</th>\n",
       "      <td>C:\\Users\\mudas\\Desktop\\Images\\Healthy\\900.jpg</td>\n",
       "    </tr>\n",
       "    <tr>\n",
       "      <th>4</th>\n",
       "      <td>C:\\Users\\mudas\\Desktop\\Images\\Healthy\\download...</td>\n",
       "    </tr>\n",
       "  </tbody>\n",
       "</table>\n",
       "</div>"
      ],
      "text/plain": [
       "                                                   0\n",
       "0        C:\\Users\\mudas\\Desktop\\Images\\Healthy\\3.jpg\n",
       "1        C:\\Users\\mudas\\Desktop\\Images\\Healthy\\5.jpg\n",
       "2        C:\\Users\\mudas\\Desktop\\Images\\Healthy\\7.jpg\n",
       "3      C:\\Users\\mudas\\Desktop\\Images\\Healthy\\900.jpg\n",
       "4  C:\\Users\\mudas\\Desktop\\Images\\Healthy\\download..."
      ]
     },
     "execution_count": 2,
     "metadata": {},
     "output_type": "execute_result"
    }
   ],
   "source": [
    "file = os.listdir(\"C:\\\\Users\\\\mudas\\\\Desktop\\\\Images\\\\Healthy\")\n",
    "Healthy = []\n",
    "for i in file :\n",
    "    Healthy.append(os.path.join(\"C:\\\\Users\\\\mudas\\\\Desktop\\\\Images\\\\Healthy\",i))\n",
    "df_healthy = pd.DataFrame(Healthy)\n",
    "df_healthy.head()"
   ]
  },
  {
   "cell_type": "code",
   "execution_count": 3,
   "metadata": {
    "pycharm": {
     "name": "#%%\n"
    }
   },
   "outputs": [
    {
     "data": {
      "text/html": [
       "<div>\n",
       "<style scoped>\n",
       "    .dataframe tbody tr th:only-of-type {\n",
       "        vertical-align: middle;\n",
       "    }\n",
       "\n",
       "    .dataframe tbody tr th {\n",
       "        vertical-align: top;\n",
       "    }\n",
       "\n",
       "    .dataframe thead th {\n",
       "        text-align: right;\n",
       "    }\n",
       "</style>\n",
       "<table border=\"1\" class=\"dataframe\">\n",
       "  <thead>\n",
       "    <tr style=\"text-align: right;\">\n",
       "      <th></th>\n",
       "      <th>0</th>\n",
       "    </tr>\n",
       "  </thead>\n",
       "  <tbody>\n",
       "    <tr>\n",
       "      <th>0</th>\n",
       "      <td>C:\\Users\\mudas\\Desktop\\Images\\underweight\\5.jpg</td>\n",
       "    </tr>\n",
       "    <tr>\n",
       "      <th>1</th>\n",
       "      <td>C:\\Users\\mudas\\Desktop\\Images\\underweight\\556.jpg</td>\n",
       "    </tr>\n",
       "    <tr>\n",
       "      <th>2</th>\n",
       "      <td>C:\\Users\\mudas\\Desktop\\Images\\underweight\\boys...</td>\n",
       "    </tr>\n",
       "    <tr>\n",
       "      <th>3</th>\n",
       "      <td>C:\\Users\\mudas\\Desktop\\Images\\underweight\\down...</td>\n",
       "    </tr>\n",
       "    <tr>\n",
       "      <th>4</th>\n",
       "      <td>C:\\Users\\mudas\\Desktop\\Images\\underweight\\down...</td>\n",
       "    </tr>\n",
       "  </tbody>\n",
       "</table>\n",
       "</div>"
      ],
      "text/plain": [
       "                                                   0\n",
       "0    C:\\Users\\mudas\\Desktop\\Images\\underweight\\5.jpg\n",
       "1  C:\\Users\\mudas\\Desktop\\Images\\underweight\\556.jpg\n",
       "2  C:\\Users\\mudas\\Desktop\\Images\\underweight\\boys...\n",
       "3  C:\\Users\\mudas\\Desktop\\Images\\underweight\\down...\n",
       "4  C:\\Users\\mudas\\Desktop\\Images\\underweight\\down..."
      ]
     },
     "execution_count": 3,
     "metadata": {},
     "output_type": "execute_result"
    }
   ],
   "source": [
    "file = os.listdir(\"C:\\\\Users\\\\mudas\\\\Desktop\\\\Images\\\\underweight\")\n",
    "underweight = []\n",
    "for i in file :\n",
    "    underweight.append(os.path.join(\"C:\\\\Users\\\\mudas\\\\Desktop\\\\Images\\\\underweight\",i))\n",
    "df_underweight = pd.DataFrame(underweight)\n",
    "df_underweight.head()"
   ]
  },
  {
   "cell_type": "code",
   "execution_count": 4,
   "metadata": {
    "pycharm": {
     "name": "#%%\n"
    }
   },
   "outputs": [
    {
     "data": {
      "text/html": [
       "<div>\n",
       "<style scoped>\n",
       "    .dataframe tbody tr th:only-of-type {\n",
       "        vertical-align: middle;\n",
       "    }\n",
       "\n",
       "    .dataframe tbody tr th {\n",
       "        vertical-align: top;\n",
       "    }\n",
       "\n",
       "    .dataframe thead th {\n",
       "        text-align: right;\n",
       "    }\n",
       "</style>\n",
       "<table border=\"1\" class=\"dataframe\">\n",
       "  <thead>\n",
       "    <tr style=\"text-align: right;\">\n",
       "      <th></th>\n",
       "      <th>0</th>\n",
       "    </tr>\n",
       "  </thead>\n",
       "  <tbody>\n",
       "    <tr>\n",
       "      <th>0</th>\n",
       "      <td>C:\\Users\\mudas\\Desktop\\Images\\overweight\\downl...</td>\n",
       "    </tr>\n",
       "    <tr>\n",
       "      <th>1</th>\n",
       "      <td>C:\\Users\\mudas\\Desktop\\Images\\overweight\\downl...</td>\n",
       "    </tr>\n",
       "    <tr>\n",
       "      <th>2</th>\n",
       "      <td>C:\\Users\\mudas\\Desktop\\Images\\overweight\\downl...</td>\n",
       "    </tr>\n",
       "    <tr>\n",
       "      <th>3</th>\n",
       "      <td>C:\\Users\\mudas\\Desktop\\Images\\overweight\\downl...</td>\n",
       "    </tr>\n",
       "    <tr>\n",
       "      <th>4</th>\n",
       "      <td>C:\\Users\\mudas\\Desktop\\Images\\overweight\\downl...</td>\n",
       "    </tr>\n",
       "  </tbody>\n",
       "</table>\n",
       "</div>"
      ],
      "text/plain": [
       "                                                   0\n",
       "0  C:\\Users\\mudas\\Desktop\\Images\\overweight\\downl...\n",
       "1  C:\\Users\\mudas\\Desktop\\Images\\overweight\\downl...\n",
       "2  C:\\Users\\mudas\\Desktop\\Images\\overweight\\downl...\n",
       "3  C:\\Users\\mudas\\Desktop\\Images\\overweight\\downl...\n",
       "4  C:\\Users\\mudas\\Desktop\\Images\\overweight\\downl..."
      ]
     },
     "execution_count": 4,
     "metadata": {},
     "output_type": "execute_result"
    }
   ],
   "source": [
    "file = os.listdir(\"C:\\\\Users\\\\mudas\\\\Desktop\\\\Images\\\\overweight\")\n",
    "overweight = []\n",
    "for i in file :\n",
    "    overweight.append(os.path.join(\"C:\\\\Users\\\\mudas\\\\Desktop\\\\Images\\\\overweight\",i))\n",
    "df_overweight = pd.DataFrame(overweight)\n",
    "df_overweight.head()"
   ]
  },
  {
   "cell_type": "code",
   "execution_count": 5,
   "metadata": {
    "pycharm": {
     "name": "#%%\n"
    }
   },
   "outputs": [
    {
     "data": {
      "text/html": [
       "<div>\n",
       "<style scoped>\n",
       "    .dataframe tbody tr th:only-of-type {\n",
       "        vertical-align: middle;\n",
       "    }\n",
       "\n",
       "    .dataframe tbody tr th {\n",
       "        vertical-align: top;\n",
       "    }\n",
       "\n",
       "    .dataframe thead th {\n",
       "        text-align: right;\n",
       "    }\n",
       "</style>\n",
       "<table border=\"1\" class=\"dataframe\">\n",
       "  <thead>\n",
       "    <tr style=\"text-align: right;\">\n",
       "      <th></th>\n",
       "      <th>file</th>\n",
       "      <th>label</th>\n",
       "    </tr>\n",
       "  </thead>\n",
       "  <tbody>\n",
       "    <tr>\n",
       "      <th>0</th>\n",
       "      <td>C:\\Users\\mudas\\Desktop\\Images\\Healthy\\3.jpg</td>\n",
       "      <td>H</td>\n",
       "    </tr>\n",
       "    <tr>\n",
       "      <th>1</th>\n",
       "      <td>C:\\Users\\mudas\\Desktop\\Images\\Healthy\\5.jpg</td>\n",
       "      <td>H</td>\n",
       "    </tr>\n",
       "    <tr>\n",
       "      <th>2</th>\n",
       "      <td>C:\\Users\\mudas\\Desktop\\Images\\Healthy\\7.jpg</td>\n",
       "      <td>H</td>\n",
       "    </tr>\n",
       "    <tr>\n",
       "      <th>3</th>\n",
       "      <td>C:\\Users\\mudas\\Desktop\\Images\\Healthy\\900.jpg</td>\n",
       "      <td>H</td>\n",
       "    </tr>\n",
       "    <tr>\n",
       "      <th>4</th>\n",
       "      <td>C:\\Users\\mudas\\Desktop\\Images\\Healthy\\download...</td>\n",
       "      <td>H</td>\n",
       "    </tr>\n",
       "    <tr>\n",
       "      <th>...</th>\n",
       "      <td>...</td>\n",
       "      <td>...</td>\n",
       "    </tr>\n",
       "    <tr>\n",
       "      <th>997</th>\n",
       "      <td>C:\\Users\\mudas\\Desktop\\Images\\Healthy\\ownload ...</td>\n",
       "      <td>H</td>\n",
       "    </tr>\n",
       "    <tr>\n",
       "      <th>998</th>\n",
       "      <td>C:\\Users\\mudas\\Desktop\\Images\\Healthy\\Project_...</td>\n",
       "      <td>H</td>\n",
       "    </tr>\n",
       "    <tr>\n",
       "      <th>999</th>\n",
       "      <td>C:\\Users\\mudas\\Desktop\\Images\\Healthy\\Project_...</td>\n",
       "      <td>H</td>\n",
       "    </tr>\n",
       "    <tr>\n",
       "      <th>1000</th>\n",
       "      <td>C:\\Users\\mudas\\Desktop\\Images\\Healthy\\q.jpg</td>\n",
       "      <td>H</td>\n",
       "    </tr>\n",
       "    <tr>\n",
       "      <th>1001</th>\n",
       "      <td>C:\\Users\\mudas\\Desktop\\Images\\Healthy\\uu.jpg</td>\n",
       "      <td>H</td>\n",
       "    </tr>\n",
       "  </tbody>\n",
       "</table>\n",
       "<p>1002 rows × 2 columns</p>\n",
       "</div>"
      ],
      "text/plain": [
       "                                                   file label\n",
       "0           C:\\Users\\mudas\\Desktop\\Images\\Healthy\\3.jpg     H\n",
       "1           C:\\Users\\mudas\\Desktop\\Images\\Healthy\\5.jpg     H\n",
       "2           C:\\Users\\mudas\\Desktop\\Images\\Healthy\\7.jpg     H\n",
       "3         C:\\Users\\mudas\\Desktop\\Images\\Healthy\\900.jpg     H\n",
       "4     C:\\Users\\mudas\\Desktop\\Images\\Healthy\\download...     H\n",
       "...                                                 ...   ...\n",
       "997   C:\\Users\\mudas\\Desktop\\Images\\Healthy\\ownload ...     H\n",
       "998   C:\\Users\\mudas\\Desktop\\Images\\Healthy\\Project_...     H\n",
       "999   C:\\Users\\mudas\\Desktop\\Images\\Healthy\\Project_...     H\n",
       "1000        C:\\Users\\mudas\\Desktop\\Images\\Healthy\\q.jpg     H\n",
       "1001       C:\\Users\\mudas\\Desktop\\Images\\Healthy\\uu.jpg     H\n",
       "\n",
       "[1002 rows x 2 columns]"
      ]
     },
     "execution_count": 5,
     "metadata": {},
     "output_type": "execute_result"
    }
   ],
   "source": [
    "df_healthy['label'] = \"H\"\n",
    "df_healthy = df_healthy.rename(columns={0:'file'})\n",
    "df_healthy"
   ]
  },
  {
   "cell_type": "code",
   "execution_count": 6,
   "metadata": {
    "pycharm": {
     "name": "#%%\n"
    }
   },
   "outputs": [
    {
     "data": {
      "text/html": [
       "<div>\n",
       "<style scoped>\n",
       "    .dataframe tbody tr th:only-of-type {\n",
       "        vertical-align: middle;\n",
       "    }\n",
       "\n",
       "    .dataframe tbody tr th {\n",
       "        vertical-align: top;\n",
       "    }\n",
       "\n",
       "    .dataframe thead th {\n",
       "        text-align: right;\n",
       "    }\n",
       "</style>\n",
       "<table border=\"1\" class=\"dataframe\">\n",
       "  <thead>\n",
       "    <tr style=\"text-align: right;\">\n",
       "      <th></th>\n",
       "      <th>file</th>\n",
       "      <th>label</th>\n",
       "    </tr>\n",
       "  </thead>\n",
       "  <tbody>\n",
       "    <tr>\n",
       "      <th>0</th>\n",
       "      <td>C:\\Users\\mudas\\Desktop\\Images\\underweight\\5.jpg</td>\n",
       "      <td>U</td>\n",
       "    </tr>\n",
       "    <tr>\n",
       "      <th>1</th>\n",
       "      <td>C:\\Users\\mudas\\Desktop\\Images\\underweight\\556.jpg</td>\n",
       "      <td>U</td>\n",
       "    </tr>\n",
       "    <tr>\n",
       "      <th>2</th>\n",
       "      <td>C:\\Users\\mudas\\Desktop\\Images\\underweight\\boys...</td>\n",
       "      <td>U</td>\n",
       "    </tr>\n",
       "    <tr>\n",
       "      <th>3</th>\n",
       "      <td>C:\\Users\\mudas\\Desktop\\Images\\underweight\\down...</td>\n",
       "      <td>U</td>\n",
       "    </tr>\n",
       "    <tr>\n",
       "      <th>4</th>\n",
       "      <td>C:\\Users\\mudas\\Desktop\\Images\\underweight\\down...</td>\n",
       "      <td>U</td>\n",
       "    </tr>\n",
       "    <tr>\n",
       "      <th>...</th>\n",
       "      <td>...</td>\n",
       "      <td>...</td>\n",
       "    </tr>\n",
       "    <tr>\n",
       "      <th>995</th>\n",
       "      <td>C:\\Users\\mudas\\Desktop\\Images\\underweight\\unde...</td>\n",
       "      <td>U</td>\n",
       "    </tr>\n",
       "    <tr>\n",
       "      <th>996</th>\n",
       "      <td>C:\\Users\\mudas\\Desktop\\Images\\underweight\\unde...</td>\n",
       "      <td>U</td>\n",
       "    </tr>\n",
       "    <tr>\n",
       "      <th>997</th>\n",
       "      <td>C:\\Users\\mudas\\Desktop\\Images\\underweight\\unde...</td>\n",
       "      <td>U</td>\n",
       "    </tr>\n",
       "    <tr>\n",
       "      <th>998</th>\n",
       "      <td>C:\\Users\\mudas\\Desktop\\Images\\underweight\\unde...</td>\n",
       "      <td>U</td>\n",
       "    </tr>\n",
       "    <tr>\n",
       "      <th>999</th>\n",
       "      <td>C:\\Users\\mudas\\Desktop\\Images\\underweight\\unde...</td>\n",
       "      <td>U</td>\n",
       "    </tr>\n",
       "  </tbody>\n",
       "</table>\n",
       "<p>1000 rows × 2 columns</p>\n",
       "</div>"
      ],
      "text/plain": [
       "                                                  file label\n",
       "0      C:\\Users\\mudas\\Desktop\\Images\\underweight\\5.jpg     U\n",
       "1    C:\\Users\\mudas\\Desktop\\Images\\underweight\\556.jpg     U\n",
       "2    C:\\Users\\mudas\\Desktop\\Images\\underweight\\boys...     U\n",
       "3    C:\\Users\\mudas\\Desktop\\Images\\underweight\\down...     U\n",
       "4    C:\\Users\\mudas\\Desktop\\Images\\underweight\\down...     U\n",
       "..                                                 ...   ...\n",
       "995  C:\\Users\\mudas\\Desktop\\Images\\underweight\\unde...     U\n",
       "996  C:\\Users\\mudas\\Desktop\\Images\\underweight\\unde...     U\n",
       "997  C:\\Users\\mudas\\Desktop\\Images\\underweight\\unde...     U\n",
       "998  C:\\Users\\mudas\\Desktop\\Images\\underweight\\unde...     U\n",
       "999  C:\\Users\\mudas\\Desktop\\Images\\underweight\\unde...     U\n",
       "\n",
       "[1000 rows x 2 columns]"
      ]
     },
     "execution_count": 6,
     "metadata": {},
     "output_type": "execute_result"
    }
   ],
   "source": [
    "df_underweight['label'] = \"U\"\n",
    "df_underweight = df_underweight.rename(columns={0:'file'})\n",
    "df_underweight"
   ]
  },
  {
   "cell_type": "code",
   "execution_count": 7,
   "metadata": {
    "pycharm": {
     "name": "#%%\n"
    }
   },
   "outputs": [
    {
     "data": {
      "text/html": [
       "<div>\n",
       "<style scoped>\n",
       "    .dataframe tbody tr th:only-of-type {\n",
       "        vertical-align: middle;\n",
       "    }\n",
       "\n",
       "    .dataframe tbody tr th {\n",
       "        vertical-align: top;\n",
       "    }\n",
       "\n",
       "    .dataframe thead th {\n",
       "        text-align: right;\n",
       "    }\n",
       "</style>\n",
       "<table border=\"1\" class=\"dataframe\">\n",
       "  <thead>\n",
       "    <tr style=\"text-align: right;\">\n",
       "      <th></th>\n",
       "      <th>file</th>\n",
       "      <th>label</th>\n",
       "    </tr>\n",
       "  </thead>\n",
       "  <tbody>\n",
       "    <tr>\n",
       "      <th>0</th>\n",
       "      <td>C:\\Users\\mudas\\Desktop\\Images\\overweight\\downl...</td>\n",
       "      <td>O</td>\n",
       "    </tr>\n",
       "    <tr>\n",
       "      <th>1</th>\n",
       "      <td>C:\\Users\\mudas\\Desktop\\Images\\overweight\\downl...</td>\n",
       "      <td>O</td>\n",
       "    </tr>\n",
       "    <tr>\n",
       "      <th>2</th>\n",
       "      <td>C:\\Users\\mudas\\Desktop\\Images\\overweight\\downl...</td>\n",
       "      <td>O</td>\n",
       "    </tr>\n",
       "    <tr>\n",
       "      <th>3</th>\n",
       "      <td>C:\\Users\\mudas\\Desktop\\Images\\overweight\\downl...</td>\n",
       "      <td>O</td>\n",
       "    </tr>\n",
       "    <tr>\n",
       "      <th>4</th>\n",
       "      <td>C:\\Users\\mudas\\Desktop\\Images\\overweight\\downl...</td>\n",
       "      <td>O</td>\n",
       "    </tr>\n",
       "    <tr>\n",
       "      <th>...</th>\n",
       "      <td>...</td>\n",
       "      <td>...</td>\n",
       "    </tr>\n",
       "    <tr>\n",
       "      <th>995</th>\n",
       "      <td>C:\\Users\\mudas\\Desktop\\Images\\overweight\\image...</td>\n",
       "      <td>O</td>\n",
       "    </tr>\n",
       "    <tr>\n",
       "      <th>996</th>\n",
       "      <td>C:\\Users\\mudas\\Desktop\\Images\\overweight\\image...</td>\n",
       "      <td>O</td>\n",
       "    </tr>\n",
       "    <tr>\n",
       "      <th>997</th>\n",
       "      <td>C:\\Users\\mudas\\Desktop\\Images\\overweight\\istoc...</td>\n",
       "      <td>O</td>\n",
       "    </tr>\n",
       "    <tr>\n",
       "      <th>998</th>\n",
       "      <td>C:\\Users\\mudas\\Desktop\\Images\\overweight\\istoc...</td>\n",
       "      <td>O</td>\n",
       "    </tr>\n",
       "    <tr>\n",
       "      <th>999</th>\n",
       "      <td>C:\\Users\\mudas\\Desktop\\Images\\overweight\\ui.jpg</td>\n",
       "      <td>O</td>\n",
       "    </tr>\n",
       "  </tbody>\n",
       "</table>\n",
       "<p>1000 rows × 2 columns</p>\n",
       "</div>"
      ],
      "text/plain": [
       "                                                  file label\n",
       "0    C:\\Users\\mudas\\Desktop\\Images\\overweight\\downl...     O\n",
       "1    C:\\Users\\mudas\\Desktop\\Images\\overweight\\downl...     O\n",
       "2    C:\\Users\\mudas\\Desktop\\Images\\overweight\\downl...     O\n",
       "3    C:\\Users\\mudas\\Desktop\\Images\\overweight\\downl...     O\n",
       "4    C:\\Users\\mudas\\Desktop\\Images\\overweight\\downl...     O\n",
       "..                                                 ...   ...\n",
       "995  C:\\Users\\mudas\\Desktop\\Images\\overweight\\image...     O\n",
       "996  C:\\Users\\mudas\\Desktop\\Images\\overweight\\image...     O\n",
       "997  C:\\Users\\mudas\\Desktop\\Images\\overweight\\istoc...     O\n",
       "998  C:\\Users\\mudas\\Desktop\\Images\\overweight\\istoc...     O\n",
       "999    C:\\Users\\mudas\\Desktop\\Images\\overweight\\ui.jpg     O\n",
       "\n",
       "[1000 rows x 2 columns]"
      ]
     },
     "execution_count": 7,
     "metadata": {},
     "output_type": "execute_result"
    }
   ],
   "source": [
    "df_overweight['label'] = \"O\"\n",
    "df_overweight = df_overweight.rename(columns={0:'file'})\n",
    "df_overweight"
   ]
  },
  {
   "cell_type": "code",
   "execution_count": 8,
   "metadata": {
    "pycharm": {
     "name": "#%%\n"
    }
   },
   "outputs": [
    {
     "data": {
      "text/html": [
       "<div>\n",
       "<style scoped>\n",
       "    .dataframe tbody tr th:only-of-type {\n",
       "        vertical-align: middle;\n",
       "    }\n",
       "\n",
       "    .dataframe tbody tr th {\n",
       "        vertical-align: top;\n",
       "    }\n",
       "\n",
       "    .dataframe thead th {\n",
       "        text-align: right;\n",
       "    }\n",
       "</style>\n",
       "<table border=\"1\" class=\"dataframe\">\n",
       "  <thead>\n",
       "    <tr style=\"text-align: right;\">\n",
       "      <th></th>\n",
       "      <th>file</th>\n",
       "      <th>label</th>\n",
       "    </tr>\n",
       "  </thead>\n",
       "  <tbody>\n",
       "    <tr>\n",
       "      <th>0</th>\n",
       "      <td>C:\\Users\\mudas\\Desktop\\Images\\Healthy\\3.jpg</td>\n",
       "      <td>H</td>\n",
       "    </tr>\n",
       "    <tr>\n",
       "      <th>1</th>\n",
       "      <td>C:\\Users\\mudas\\Desktop\\Images\\Healthy\\5.jpg</td>\n",
       "      <td>H</td>\n",
       "    </tr>\n",
       "    <tr>\n",
       "      <th>2</th>\n",
       "      <td>C:\\Users\\mudas\\Desktop\\Images\\Healthy\\7.jpg</td>\n",
       "      <td>H</td>\n",
       "    </tr>\n",
       "    <tr>\n",
       "      <th>3</th>\n",
       "      <td>C:\\Users\\mudas\\Desktop\\Images\\Healthy\\900.jpg</td>\n",
       "      <td>H</td>\n",
       "    </tr>\n",
       "    <tr>\n",
       "      <th>4</th>\n",
       "      <td>C:\\Users\\mudas\\Desktop\\Images\\Healthy\\download...</td>\n",
       "      <td>H</td>\n",
       "    </tr>\n",
       "    <tr>\n",
       "      <th>...</th>\n",
       "      <td>...</td>\n",
       "      <td>...</td>\n",
       "    </tr>\n",
       "    <tr>\n",
       "      <th>2997</th>\n",
       "      <td>C:\\Users\\mudas\\Desktop\\Images\\overweight\\image...</td>\n",
       "      <td>O</td>\n",
       "    </tr>\n",
       "    <tr>\n",
       "      <th>2998</th>\n",
       "      <td>C:\\Users\\mudas\\Desktop\\Images\\overweight\\image...</td>\n",
       "      <td>O</td>\n",
       "    </tr>\n",
       "    <tr>\n",
       "      <th>2999</th>\n",
       "      <td>C:\\Users\\mudas\\Desktop\\Images\\overweight\\istoc...</td>\n",
       "      <td>O</td>\n",
       "    </tr>\n",
       "    <tr>\n",
       "      <th>3000</th>\n",
       "      <td>C:\\Users\\mudas\\Desktop\\Images\\overweight\\istoc...</td>\n",
       "      <td>O</td>\n",
       "    </tr>\n",
       "    <tr>\n",
       "      <th>3001</th>\n",
       "      <td>C:\\Users\\mudas\\Desktop\\Images\\overweight\\ui.jpg</td>\n",
       "      <td>O</td>\n",
       "    </tr>\n",
       "  </tbody>\n",
       "</table>\n",
       "<p>3002 rows × 2 columns</p>\n",
       "</div>"
      ],
      "text/plain": [
       "                                                   file label\n",
       "0           C:\\Users\\mudas\\Desktop\\Images\\Healthy\\3.jpg     H\n",
       "1           C:\\Users\\mudas\\Desktop\\Images\\Healthy\\5.jpg     H\n",
       "2           C:\\Users\\mudas\\Desktop\\Images\\Healthy\\7.jpg     H\n",
       "3         C:\\Users\\mudas\\Desktop\\Images\\Healthy\\900.jpg     H\n",
       "4     C:\\Users\\mudas\\Desktop\\Images\\Healthy\\download...     H\n",
       "...                                                 ...   ...\n",
       "2997  C:\\Users\\mudas\\Desktop\\Images\\overweight\\image...     O\n",
       "2998  C:\\Users\\mudas\\Desktop\\Images\\overweight\\image...     O\n",
       "2999  C:\\Users\\mudas\\Desktop\\Images\\overweight\\istoc...     O\n",
       "3000  C:\\Users\\mudas\\Desktop\\Images\\overweight\\istoc...     O\n",
       "3001    C:\\Users\\mudas\\Desktop\\Images\\overweight\\ui.jpg     O\n",
       "\n",
       "[3002 rows x 2 columns]"
      ]
     },
     "execution_count": 8,
     "metadata": {},
     "output_type": "execute_result"
    }
   ],
   "source": [
    "df=pd.concat([df_healthy,df_underweight,df_overweight],ignore_index=True,axis=0)\n",
    "df"
   ]
  },
  {
   "cell_type": "code",
   "execution_count": 9,
   "metadata": {
    "pycharm": {
     "name": "#%%\n"
    }
   },
   "outputs": [],
   "source": [
    "df = df.sample(frac=1, random_state=42).reset_index(drop=True)"
   ]
  },
  {
   "cell_type": "code",
   "execution_count": 10,
   "metadata": {
    "pycharm": {
     "name": "#%%\n"
    }
   },
   "outputs": [],
   "source": [
    "df_train , df_test = train_test_split(df, test_size=(0.2))"
   ]
  },
  {
   "cell_type": "code",
   "execution_count": 11,
   "metadata": {
    "pycharm": {
     "name": "#%%\n"
    }
   },
   "outputs": [],
   "source": [
    "def to_gray(img):\n",
    "    return tf.image.rgb_to_grayscale(img)\n",
    "\n",
    "\n",
    "def tf_binarize(img):\n",
    "    return tf.cast(tf.greater(img, 0.5), tf.float32)\n",
    "\n",
    "\n",
    "def pre_gen_binarize(img):\n",
    "    img = img[:, :, 0]\n",
    "    _, binary_img = cv2.threshold(img, 127, 255, cv2.THRESH_BINARY)\n",
    "    binary_img = binary_img.reshape(binary_img.shape[0], binary_img.shape[1], 1)\n",
    "    return binary_img // 255"
   ]
  },
  {
   "cell_type": "code",
   "execution_count": 12,
   "metadata": {
    "pycharm": {
     "name": "#%%\n"
    }
   },
   "outputs": [],
   "source": [
    "num_epochs = 10\n",
    "batch_size = 256\n",
    "validation_ratio = 0.1\n",
    "\n",
    "h = 64\n",
    "w = 64\n",
    "c = 1\n",
    "image_dim = (h,w,c)"
   ]
  },
  {
   "cell_type": "code",
   "execution_count": 13,
   "metadata": {
    "pycharm": {
     "name": "#%%\n"
    }
   },
   "outputs": [],
   "source": [
    "class Generators:\n",
    "    def __init__(self, train_df, test_df):\n",
    "        self.batch_size=batch_size\n",
    "        self.img_size=(h,w)\n",
    "\n",
    "        _train_datagen = ImageDataGenerator(\n",
    "            #rescale=1/255,\n",
    "            rotation_range=30,\n",
    "            zoom_range = 0.2,\n",
    "            width_shift_range=0.2,\n",
    "            height_shift_range=0.2,\n",
    "            fill_mode='nearest',\n",
    "            preprocessing_function=pre_gen_binarize\n",
    "        )\n",
    "        self.train_generator = _train_datagen.flow_from_dataframe(\n",
    "            dataframe=train_df,\n",
    "            x_col=\"file\",\n",
    "            y_col=\"label\",\n",
    "            class_mode='categorical',\n",
    "            batch_size=self.batch_size,\n",
    "            color_mode=\"grayscale\",\n",
    "            shuffle=True,\n",
    "            seed=1,\n",
    "            target_size=self.img_size)\n",
    "        print('Train generator created')\n",
    "\n",
    "        _test_datagen=ImageDataGenerator(#rescale=1/255,\n",
    "             preprocessing_function=pre_gen_binarize)\n",
    "        self.test_generator = _test_datagen.flow_from_dataframe(\n",
    "            dataframe=test_df,\n",
    "            x_col=\"file\",\n",
    "            y_col='label',\n",
    "            class_mode='categorical',\n",
    "            batch_size=self.batch_size,\n",
    "            color_mode=\"grayscale\",\n",
    "            shuffle=False,\n",
    "            seed=1,\n",
    "            target_size=self.img_size)\n",
    "        print('Test generator created')"
   ]
  },
  {
   "cell_type": "code",
   "execution_count": 14,
   "metadata": {
    "pycharm": {
     "name": "#%%\n"
    }
   },
   "outputs": [
    {
     "name": "stderr",
     "output_type": "stream",
     "text": [
      "D:\\I_S\\Anaconda\\lib\\site-packages\\keras_preprocessing\\image\\dataframe_iterator.py:279: UserWarning: Found 2 invalid image filename(s) in x_col=\"file\". These filename(s) will be ignored.\n",
      "  warnings.warn(\n"
     ]
    },
    {
     "name": "stdout",
     "output_type": "stream",
     "text": [
      "Found 2399 validated image filenames belonging to 3 classes.\n",
      "Train generator created\n",
      "Found 601 validated image filenames belonging to 3 classes.\n",
      "Test generator created\n"
     ]
    }
   ],
   "source": [
    "generators = Generators(df_train, df_test)"
   ]
  },
  {
   "cell_type": "code",
   "execution_count": 15,
   "metadata": {
    "pycharm": {
     "name": "#%%\n"
    }
   },
   "outputs": [],
   "source": [
    "model = Sequential()\n",
    "\n",
    "model.add(Conv2D(filters=32, kernel_size=(3, 3), activation='relu', input_shape=(64,64,1)))\n",
    "model.add(MaxPooling2D(pool_size=(2, 2)))\n",
    "\n",
    "model.add(Conv2D(filters=64, kernel_size=(3, 3), activation='relu'))\n",
    "model.add(MaxPooling2D(pool_size=(2, 2)))\n",
    "model.add(Dropout(0.5))\n",
    "\n",
    "model.add(Conv2D(filters=128, kernel_size=(3, 3), activation='relu'))\n",
    "model.add(MaxPooling2D(pool_size=(2, 2)))\n",
    "model.add(Dropout(0.5))\n",
    "\n",
    "model.add(Conv2D(filters=128, kernel_size=(3, 3), activation='relu'))\n",
    "model.add(MaxPooling2D(pool_size=(2, 2)))\n",
    "model.add(Dropout(0.5))\n",
    "\n",
    "model.add(Flatten())\n",
    "model.add(Dense(1024, activation='relu'))\n",
    "model.add(Dropout(0.5))\n",
    "model.add(Dense(512, activation='relu'))\n",
    "model.add(Dense(256, activation='relu'))\n",
    "model.add(Dense(128, activation='relu'))\n",
    "model.add(Dropout(0.5))\n",
    "\n",
    "model.add(Dense(3, activation='softmax'))"
   ]
  },
  {
   "cell_type": "code",
   "execution_count": 16,
   "metadata": {
    "pycharm": {
     "name": "#%%\n"
    }
   },
   "outputs": [],
   "source": [
    "model.compile(loss='categorical_crossentropy',\n",
    "                  optimizer='adam',\n",
    "                  metrics=['accuracy'])"
   ]
  },
  {
   "cell_type": "code",
   "execution_count": 17,
   "metadata": {
    "pycharm": {
     "name": "#%%\n"
    }
   },
   "outputs": [
    {
     "name": "stdout",
     "output_type": "stream",
     "text": [
      "Model: \"sequential\"\n",
      "_________________________________________________________________\n",
      " Layer (type)                Output Shape              Param #   \n",
      "=================================================================\n",
      " conv2d (Conv2D)             (None, 62, 62, 32)        320       \n",
      "                                                                 \n",
      " max_pooling2d (MaxPooling2D  (None, 31, 31, 32)       0         \n",
      " )                                                               \n",
      "                                                                 \n",
      " conv2d_1 (Conv2D)           (None, 29, 29, 64)        18496     \n",
      "                                                                 \n",
      " max_pooling2d_1 (MaxPooling  (None, 14, 14, 64)       0         \n",
      " 2D)                                                             \n",
      "                                                                 \n",
      " dropout (Dropout)           (None, 14, 14, 64)        0         \n",
      "                                                                 \n",
      " conv2d_2 (Conv2D)           (None, 12, 12, 128)       73856     \n",
      "                                                                 \n",
      " max_pooling2d_2 (MaxPooling  (None, 6, 6, 128)        0         \n",
      " 2D)                                                             \n",
      "                                                                 \n",
      " dropout_1 (Dropout)         (None, 6, 6, 128)         0         \n",
      "                                                                 \n",
      " conv2d_3 (Conv2D)           (None, 4, 4, 128)         147584    \n",
      "                                                                 \n",
      " max_pooling2d_3 (MaxPooling  (None, 2, 2, 128)        0         \n",
      " 2D)                                                             \n",
      "                                                                 \n",
      " dropout_2 (Dropout)         (None, 2, 2, 128)         0         \n",
      "                                                                 \n",
      " flatten (Flatten)           (None, 512)               0         \n",
      "                                                                 \n",
      " dense (Dense)               (None, 1024)              525312    \n",
      "                                                                 \n",
      " dropout_3 (Dropout)         (None, 1024)              0         \n",
      "                                                                 \n",
      " dense_1 (Dense)             (None, 512)               524800    \n",
      "                                                                 \n",
      " dense_2 (Dense)             (None, 256)               131328    \n",
      "                                                                 \n",
      " dense_3 (Dense)             (None, 128)               32896     \n",
      "                                                                 \n",
      " dropout_4 (Dropout)         (None, 128)               0         \n",
      "                                                                 \n",
      " dense_4 (Dense)             (None, 3)                 387       \n",
      "                                                                 \n",
      "=================================================================\n",
      "Total params: 1,454,979\n",
      "Trainable params: 1,454,979\n",
      "Non-trainable params: 0\n",
      "_________________________________________________________________\n"
     ]
    }
   ],
   "source": [
    "model.summary()"
   ]
  },
  {
   "cell_type": "code",
   "execution_count": 18,
   "metadata": {
    "pycharm": {
     "name": "#%%\n"
    }
   },
   "outputs": [
    {
     "name": "stdout",
     "output_type": "stream",
     "text": [
      "Epoch 1/100\n",
      "10/10 [==============================] - 34s 3s/step - loss: 1.1115 - accuracy: 0.3168 - val_loss: 1.0985 - val_accuracy: 0.3161\n",
      "Epoch 2/100\n",
      "10/10 [==============================] - 24s 2s/step - loss: 1.0996 - accuracy: 0.3289 - val_loss: 1.0991 - val_accuracy: 0.3045\n",
      "Epoch 3/100\n",
      "10/10 [==============================] - 24s 2s/step - loss: 1.0976 - accuracy: 0.3481 - val_loss: 1.0975 - val_accuracy: 0.3794\n",
      "Epoch 4/100\n",
      "10/10 [==============================] - 24s 2s/step - loss: 1.0964 - accuracy: 0.3585 - val_loss: 1.0971 - val_accuracy: 0.3394\n",
      "Epoch 5/100\n",
      "10/10 [==============================] - 37s 4s/step - loss: 1.0918 - accuracy: 0.3893 - val_loss: 1.0959 - val_accuracy: 0.3344\n",
      "Epoch 6/100\n",
      "10/10 [==============================] - 26s 2s/step - loss: 1.0890 - accuracy: 0.3952 - val_loss: 1.1017 - val_accuracy: 0.3195\n",
      "Epoch 7/100\n",
      "10/10 [==============================] - 22s 2s/step - loss: 1.0675 - accuracy: 0.4068 - val_loss: 1.0511 - val_accuracy: 0.4243\n",
      "Epoch 8/100\n",
      "10/10 [==============================] - 20s 2s/step - loss: 1.0700 - accuracy: 0.4002 - val_loss: 1.0921 - val_accuracy: 0.4010\n",
      "Epoch 9/100\n",
      "10/10 [==============================] - 20s 2s/step - loss: 1.0661 - accuracy: 0.4293 - val_loss: 1.0653 - val_accuracy: 0.4426\n",
      "Epoch 10/100\n",
      "10/10 [==============================] - 19s 2s/step - loss: 1.0526 - accuracy: 0.4423 - val_loss: 1.0500 - val_accuracy: 0.4676\n",
      "Epoch 11/100\n",
      "10/10 [==============================] - 23s 2s/step - loss: 1.0461 - accuracy: 0.4481 - val_loss: 1.0290 - val_accuracy: 0.4992\n",
      "Epoch 12/100\n",
      "10/10 [==============================] - 28s 3s/step - loss: 1.0461 - accuracy: 0.4544 - val_loss: 1.0071 - val_accuracy: 0.5175\n",
      "Epoch 13/100\n",
      "10/10 [==============================] - 19s 2s/step - loss: 1.0352 - accuracy: 0.4589 - val_loss: 0.9888 - val_accuracy: 0.5358\n",
      "Epoch 14/100\n",
      "10/10 [==============================] - 21s 2s/step - loss: 1.0456 - accuracy: 0.4452 - val_loss: 0.9965 - val_accuracy: 0.5358\n",
      "Epoch 15/100\n",
      "10/10 [==============================] - 19s 2s/step - loss: 1.0433 - accuracy: 0.4473 - val_loss: 1.0033 - val_accuracy: 0.5225\n",
      "Epoch 16/100\n",
      "10/10 [==============================] - 18s 2s/step - loss: 1.0321 - accuracy: 0.4594 - val_loss: 1.0391 - val_accuracy: 0.4908\n",
      "Epoch 17/100\n",
      "10/10 [==============================] - 18s 2s/step - loss: 1.0252 - accuracy: 0.4748 - val_loss: 1.0524 - val_accuracy: 0.4892\n",
      "Epoch 18/100\n",
      "10/10 [==============================] - 19s 2s/step - loss: 1.0252 - accuracy: 0.4760 - val_loss: 1.0316 - val_accuracy: 0.4942\n",
      "Epoch 19/100\n",
      "10/10 [==============================] - 18s 2s/step - loss: 1.0173 - accuracy: 0.4714 - val_loss: 1.0443 - val_accuracy: 0.4859\n",
      "Epoch 20/100\n",
      "10/10 [==============================] - 19s 2s/step - loss: 1.0256 - accuracy: 0.4573 - val_loss: 1.0250 - val_accuracy: 0.5175\n",
      "Epoch 21/100\n",
      "10/10 [==============================] - 18s 2s/step - loss: 1.0128 - accuracy: 0.4756 - val_loss: 0.9801 - val_accuracy: 0.5324\n",
      "Epoch 22/100\n",
      "10/10 [==============================] - 18s 2s/step - loss: 1.0126 - accuracy: 0.4739 - val_loss: 0.9732 - val_accuracy: 0.5258\n",
      "Epoch 23/100\n",
      "10/10 [==============================] - 18s 2s/step - loss: 1.0085 - accuracy: 0.4785 - val_loss: 0.9920 - val_accuracy: 0.5141\n",
      "Epoch 24/100\n",
      "10/10 [==============================] - 19s 2s/step - loss: 1.0053 - accuracy: 0.4819 - val_loss: 0.9782 - val_accuracy: 0.5341\n",
      "Epoch 25/100\n",
      "10/10 [==============================] - 18s 2s/step - loss: 0.9894 - accuracy: 0.4935 - val_loss: 0.9498 - val_accuracy: 0.5574\n",
      "Epoch 26/100\n",
      "10/10 [==============================] - 18s 2s/step - loss: 0.9957 - accuracy: 0.4985 - val_loss: 0.9580 - val_accuracy: 0.5541\n",
      "Epoch 27/100\n",
      "10/10 [==============================] - 19s 2s/step - loss: 0.9896 - accuracy: 0.4931 - val_loss: 0.9341 - val_accuracy: 0.5757\n",
      "Epoch 28/100\n",
      "10/10 [==============================] - 19s 2s/step - loss: 0.9794 - accuracy: 0.5094 - val_loss: 0.9667 - val_accuracy: 0.5524\n",
      "Epoch 29/100\n",
      "10/10 [==============================] - 18s 2s/step - loss: 0.9804 - accuracy: 0.5106 - val_loss: 0.9195 - val_accuracy: 0.5874\n",
      "Epoch 30/100\n",
      "10/10 [==============================] - 19s 2s/step - loss: 0.9813 - accuracy: 0.4985 - val_loss: 0.9471 - val_accuracy: 0.5591\n",
      "Epoch 31/100\n",
      "10/10 [==============================] - 18s 2s/step - loss: 0.9793 - accuracy: 0.5169 - val_loss: 0.9048 - val_accuracy: 0.5990\n",
      "Epoch 32/100\n",
      "10/10 [==============================] - 18s 2s/step - loss: 0.9658 - accuracy: 0.5215 - val_loss: 0.9366 - val_accuracy: 0.5674\n",
      "Epoch 33/100\n",
      "10/10 [==============================] - 18s 2s/step - loss: 0.9608 - accuracy: 0.5306 - val_loss: 0.9031 - val_accuracy: 0.5973\n",
      "Epoch 34/100\n",
      "10/10 [==============================] - 18s 2s/step - loss: 0.9676 - accuracy: 0.5177 - val_loss: 0.9085 - val_accuracy: 0.5574\n",
      "Epoch 35/100\n",
      "10/10 [==============================] - 19s 2s/step - loss: 0.9649 - accuracy: 0.5069 - val_loss: 0.9176 - val_accuracy: 0.6007\n",
      "Epoch 36/100\n",
      "10/10 [==============================] - 18s 2s/step - loss: 0.9576 - accuracy: 0.5223 - val_loss: 0.8988 - val_accuracy: 0.5757\n",
      "Epoch 37/100\n",
      "10/10 [==============================] - 18s 2s/step - loss: 0.9484 - accuracy: 0.5223 - val_loss: 0.9024 - val_accuracy: 0.5641\n",
      "Epoch 38/100\n",
      "10/10 [==============================] - 18s 2s/step - loss: 0.9488 - accuracy: 0.5377 - val_loss: 0.9197 - val_accuracy: 0.5957\n",
      "Epoch 39/100\n",
      "10/10 [==============================] - 34s 4s/step - loss: 0.9627 - accuracy: 0.5406 - val_loss: 0.9312 - val_accuracy: 0.5691\n",
      "Epoch 40/100\n",
      "10/10 [==============================] - 22s 2s/step - loss: 0.9485 - accuracy: 0.5331 - val_loss: 0.8915 - val_accuracy: 0.6073\n",
      "Epoch 41/100\n",
      "10/10 [==============================] - 18s 2s/step - loss: 0.9594 - accuracy: 0.5236 - val_loss: 0.8977 - val_accuracy: 0.5824\n",
      "Epoch 42/100\n",
      "10/10 [==============================] - 18s 2s/step - loss: 0.9365 - accuracy: 0.5469 - val_loss: 0.8963 - val_accuracy: 0.5657\n",
      "Epoch 43/100\n",
      "10/10 [==============================] - 18s 2s/step - loss: 0.9383 - accuracy: 0.5406 - val_loss: 0.9192 - val_accuracy: 0.5624\n",
      "Epoch 44/100\n",
      "10/10 [==============================] - 20s 2s/step - loss: 0.9418 - accuracy: 0.5290 - val_loss: 0.8978 - val_accuracy: 0.5574\n",
      "Epoch 45/100\n",
      "10/10 [==============================] - 19s 2s/step - loss: 0.9339 - accuracy: 0.5381 - val_loss: 0.9228 - val_accuracy: 0.5441\n",
      "Epoch 46/100\n",
      "10/10 [==============================] - 18s 2s/step - loss: 0.9523 - accuracy: 0.5340 - val_loss: 0.8869 - val_accuracy: 0.5824\n",
      "Epoch 47/100\n",
      "10/10 [==============================] - 18s 2s/step - loss: 0.9365 - accuracy: 0.5490 - val_loss: 0.8888 - val_accuracy: 0.5707\n",
      "Epoch 48/100\n",
      "10/10 [==============================] - 18s 2s/step - loss: 0.9201 - accuracy: 0.5486 - val_loss: 0.8886 - val_accuracy: 0.5541\n",
      "Epoch 49/100\n",
      "10/10 [==============================] - 19s 2s/step - loss: 0.9255 - accuracy: 0.5452 - val_loss: 0.9263 - val_accuracy: 0.5191\n",
      "Epoch 50/100\n",
      "10/10 [==============================] - 18s 2s/step - loss: 0.9269 - accuracy: 0.5523 - val_loss: 0.8452 - val_accuracy: 0.5757\n",
      "Epoch 51/100\n",
      "10/10 [==============================] - 18s 2s/step - loss: 0.9311 - accuracy: 0.5419 - val_loss: 0.8451 - val_accuracy: 0.6140\n",
      "Epoch 52/100\n",
      "10/10 [==============================] - 18s 2s/step - loss: 0.9136 - accuracy: 0.5498 - val_loss: 0.9559 - val_accuracy: 0.4992\n",
      "Epoch 53/100\n",
      "10/10 [==============================] - 18s 2s/step - loss: 0.9302 - accuracy: 0.5398 - val_loss: 0.8486 - val_accuracy: 0.5757\n",
      "Epoch 54/100\n",
      "10/10 [==============================] - 18s 2s/step - loss: 0.9324 - accuracy: 0.5394 - val_loss: 0.8442 - val_accuracy: 0.6190\n",
      "Epoch 55/100\n",
      "10/10 [==============================] - 18s 2s/step - loss: 0.9151 - accuracy: 0.5469 - val_loss: 0.8854 - val_accuracy: 0.5857\n",
      "Epoch 56/100\n",
      "10/10 [==============================] - 19s 2s/step - loss: 0.9064 - accuracy: 0.5648 - val_loss: 0.8471 - val_accuracy: 0.6106\n",
      "Epoch 57/100\n",
      "10/10 [==============================] - 19s 2s/step - loss: 0.9051 - accuracy: 0.5677 - val_loss: 0.8454 - val_accuracy: 0.6007\n",
      "Epoch 58/100\n",
      "10/10 [==============================] - 19s 2s/step - loss: 0.9263 - accuracy: 0.5406 - val_loss: 0.8702 - val_accuracy: 0.5890\n",
      "Epoch 59/100\n",
      "10/10 [==============================] - 20s 2s/step - loss: 0.8963 - accuracy: 0.5682 - val_loss: 0.8866 - val_accuracy: 0.5441\n",
      "Epoch 60/100\n",
      "10/10 [==============================] - 18s 2s/step - loss: 0.9063 - accuracy: 0.5548 - val_loss: 0.8402 - val_accuracy: 0.6090\n",
      "Epoch 61/100\n",
      "10/10 [==============================] - 18s 2s/step - loss: 0.8813 - accuracy: 0.5661 - val_loss: 0.8834 - val_accuracy: 0.5707\n",
      "Epoch 62/100\n",
      "10/10 [==============================] - 18s 2s/step - loss: 0.9111 - accuracy: 0.5665 - val_loss: 0.8799 - val_accuracy: 0.5724\n",
      "Epoch 63/100\n",
      "10/10 [==============================] - 19s 2s/step - loss: 0.9000 - accuracy: 0.5690 - val_loss: 0.8318 - val_accuracy: 0.6173\n",
      "Epoch 64/100\n",
      "10/10 [==============================] - 18s 2s/step - loss: 0.9050 - accuracy: 0.5673 - val_loss: 0.8219 - val_accuracy: 0.6206\n",
      "Epoch 65/100\n",
      "10/10 [==============================] - 19s 2s/step - loss: 0.8902 - accuracy: 0.5690 - val_loss: 0.8495 - val_accuracy: 0.5574\n",
      "Epoch 66/100\n",
      "10/10 [==============================] - 18s 2s/step - loss: 0.8972 - accuracy: 0.5619 - val_loss: 0.8667 - val_accuracy: 0.5874\n",
      "Epoch 67/100\n",
      "10/10 [==============================] - 18s 2s/step - loss: 0.8815 - accuracy: 0.5794 - val_loss: 0.8264 - val_accuracy: 0.6023\n",
      "Epoch 68/100\n",
      "10/10 [==============================] - 18s 2s/step - loss: 0.8872 - accuracy: 0.5769 - val_loss: 0.8308 - val_accuracy: 0.5990\n",
      "Epoch 69/100\n",
      "10/10 [==============================] - 18s 2s/step - loss: 0.8713 - accuracy: 0.5861 - val_loss: 0.8850 - val_accuracy: 0.5657\n",
      "Epoch 70/100\n",
      "10/10 [==============================] - 18s 2s/step - loss: 0.8858 - accuracy: 0.5815 - val_loss: 0.8851 - val_accuracy: 0.5291\n",
      "Epoch 71/100\n",
      "10/10 [==============================] - 18s 2s/step - loss: 0.8851 - accuracy: 0.5807 - val_loss: 0.8155 - val_accuracy: 0.6090\n",
      "Epoch 72/100\n",
      "10/10 [==============================] - 18s 2s/step - loss: 0.8789 - accuracy: 0.5819 - val_loss: 0.8202 - val_accuracy: 0.6290\n",
      "Epoch 73/100\n",
      "10/10 [==============================] - 18s 2s/step - loss: 0.8848 - accuracy: 0.5827 - val_loss: 0.8127 - val_accuracy: 0.6273\n",
      "Epoch 74/100\n",
      "10/10 [==============================] - 18s 2s/step - loss: 0.8652 - accuracy: 0.5811 - val_loss: 0.8164 - val_accuracy: 0.6106\n",
      "Epoch 75/100\n",
      "10/10 [==============================] - 18s 2s/step - loss: 0.8687 - accuracy: 0.5882 - val_loss: 0.8063 - val_accuracy: 0.6339\n",
      "Epoch 76/100\n",
      "10/10 [==============================] - 18s 2s/step - loss: 0.8725 - accuracy: 0.5752 - val_loss: 0.8268 - val_accuracy: 0.6273\n",
      "Epoch 77/100\n",
      "10/10 [==============================] - 18s 2s/step - loss: 0.8573 - accuracy: 0.5948 - val_loss: 0.8321 - val_accuracy: 0.5890\n",
      "Epoch 78/100\n",
      "10/10 [==============================] - 18s 2s/step - loss: 0.8551 - accuracy: 0.5977 - val_loss: 0.8396 - val_accuracy: 0.5790\n",
      "Epoch 79/100\n",
      "10/10 [==============================] - 18s 2s/step - loss: 0.8627 - accuracy: 0.5965 - val_loss: 0.8020 - val_accuracy: 0.6240\n",
      "Epoch 80/100\n",
      "10/10 [==============================] - 18s 2s/step - loss: 0.8664 - accuracy: 0.5948 - val_loss: 0.7850 - val_accuracy: 0.6606\n",
      "Epoch 81/100\n",
      "10/10 [==============================] - 18s 2s/step - loss: 0.8416 - accuracy: 0.5957 - val_loss: 0.8460 - val_accuracy: 0.5874\n",
      "Epoch 82/100\n",
      "10/10 [==============================] - 18s 2s/step - loss: 0.8580 - accuracy: 0.5944 - val_loss: 0.8092 - val_accuracy: 0.6240\n",
      "Epoch 83/100\n",
      "10/10 [==============================] - 18s 2s/step - loss: 0.8428 - accuracy: 0.6078 - val_loss: 0.8770 - val_accuracy: 0.6073\n",
      "Epoch 84/100\n",
      "10/10 [==============================] - 18s 2s/step - loss: 0.8562 - accuracy: 0.5977 - val_loss: 0.7734 - val_accuracy: 0.6456\n",
      "Epoch 85/100\n",
      "10/10 [==============================] - 18s 2s/step - loss: 0.8401 - accuracy: 0.6111 - val_loss: 0.8137 - val_accuracy: 0.6073\n",
      "Epoch 86/100\n",
      "10/10 [==============================] - 18s 2s/step - loss: 0.8565 - accuracy: 0.5957 - val_loss: 0.8662 - val_accuracy: 0.5790\n",
      "Epoch 87/100\n",
      "10/10 [==============================] - 18s 2s/step - loss: 0.8556 - accuracy: 0.5948 - val_loss: 0.8282 - val_accuracy: 0.6389\n",
      "Epoch 88/100\n",
      "10/10 [==============================] - 18s 2s/step - loss: 0.8432 - accuracy: 0.6057 - val_loss: 0.7817 - val_accuracy: 0.6473\n",
      "Epoch 89/100\n",
      "10/10 [==============================] - 18s 2s/step - loss: 0.8492 - accuracy: 0.6090 - val_loss: 0.8146 - val_accuracy: 0.6140\n",
      "Epoch 90/100\n",
      "10/10 [==============================] - 18s 2s/step - loss: 0.8257 - accuracy: 0.6103 - val_loss: 0.8083 - val_accuracy: 0.6040\n",
      "Epoch 91/100\n",
      "10/10 [==============================] - 18s 2s/step - loss: 0.8370 - accuracy: 0.5969 - val_loss: 0.7815 - val_accuracy: 0.6273\n",
      "Epoch 92/100\n",
      "10/10 [==============================] - 18s 2s/step - loss: 0.8322 - accuracy: 0.6090 - val_loss: 0.7834 - val_accuracy: 0.6356\n",
      "Epoch 93/100\n",
      "10/10 [==============================] - 18s 2s/step - loss: 0.8334 - accuracy: 0.6115 - val_loss: 0.7874 - val_accuracy: 0.6339\n",
      "Epoch 94/100\n",
      "10/10 [==============================] - 18s 2s/step - loss: 0.8362 - accuracy: 0.6194 - val_loss: 0.7702 - val_accuracy: 0.6539\n",
      "Epoch 95/100\n",
      "10/10 [==============================] - 18s 2s/step - loss: 0.8555 - accuracy: 0.6086 - val_loss: 0.8090 - val_accuracy: 0.6123\n",
      "Epoch 96/100\n",
      "10/10 [==============================] - 18s 2s/step - loss: 0.8270 - accuracy: 0.6194 - val_loss: 0.7940 - val_accuracy: 0.6240\n",
      "Epoch 97/100\n",
      "10/10 [==============================] - 18s 2s/step - loss: 0.8270 - accuracy: 0.6173 - val_loss: 0.7537 - val_accuracy: 0.6489\n",
      "Epoch 98/100\n",
      "10/10 [==============================] - 18s 2s/step - loss: 0.8067 - accuracy: 0.6253 - val_loss: 0.7731 - val_accuracy: 0.6290\n",
      "Epoch 99/100\n",
      "10/10 [==============================] - 18s 2s/step - loss: 0.8156 - accuracy: 0.6107 - val_loss: 0.7849 - val_accuracy: 0.6240\n",
      "Epoch 100/100\n",
      "10/10 [==============================] - 24s 3s/step - loss: 0.8164 - accuracy: 0.6173 - val_loss: 0.7621 - val_accuracy: 0.6622\n"
     ]
    }
   ],
   "source": [
    "history = model.fit(generators.train_generator,\n",
    "                    validation_data=generators.test_generator,\n",
    "                    epochs=100)"
   ]
  },
  {
   "cell_type": "code",
   "execution_count": 19,
   "metadata": {
    "pycharm": {
     "name": "#%%\n"
    }
   },
   "outputs": [
    {
     "name": "stdout",
     "output_type": "stream",
     "text": [
      "3/3 [==============================] - 4s 636ms/step - loss: 0.7621 - accuracy: 0.6622\n"
     ]
    },
    {
     "data": {
      "text/plain": [
       "[0.7621217966079712, 0.662229597568512]"
      ]
     },
     "execution_count": 19,
     "metadata": {},
     "output_type": "execute_result"
    }
   ],
   "source": [
    "model.evaluate(generators.test_generator)"
   ]
  },
  {
   "cell_type": "code",
   "execution_count": 21,
   "metadata": {
    "pycharm": {
     "name": "#%%\n"
    }
   },
   "outputs": [
    {
     "data": {
      "image/png": "[encoded data removed]",
      "text/plain": [
       "<Figure size 1200x800 with 1 Axes>"
      ]
     },
     "metadata": {},
     "output_type": "display_data"
    }
   ],
   "source": [
    "# Check out our train accuracy and validation accuracy over epochs.\n",
    "train_accuracy = history.history['accuracy']\n",
    "val_accuracy = history.history['val_accuracy']\n",
    "\n",
    "# Set figure size.\n",
    "plt.figure(figsize=(12, 8))\n",
    "\n",
    "# Generate line plot of training, testing loss over epochs.\n",
    "plt.plot(train_accuracy, label='Training Accuracy', color='#185fad')\n",
    "plt.plot(val_accuracy, label='Validation Accuracy', color='orange')\n",
    "\n",
    "# Set title\n",
    "plt.title('Training and Validation Accuracy by Epoch', fontsize = 25)\n",
    "plt.xlabel('Epoch', fontsize = 18)\n",
    "plt.ylabel('Categorical Crossentropy', fontsize = 18)\n",
    "plt.xticks(range(0,50,5), range(0,50,5))\n",
    "\n",
    "plt.legend(fontsize = 18)\n",
    "plt.show()"
   ]
  },
  {
   "cell_type": "code",
   "execution_count": 22,
   "metadata": {
    "pycharm": {
     "name": "#%%\n"
    }
   },
   "outputs": [],
   "source": [
    "model.save(\"v1.h5\")"
   ]
  },
  {
   "cell_type": "code",
   "execution_count": 23,
   "metadata": {
    "pycharm": {
     "name": "#%%\n"
    }
   },
   "outputs": [],
   "source": [
    "model = tf.keras.models.load_model(\"v1.h5\")"
   ]
  },
  {
   "cell_type": "code",
   "execution_count": 24,
   "metadata": {
    "pycharm": {
     "name": "#%%\n"
    }
   },
   "outputs": [
    {
     "name": "stdout",
     "output_type": "stream",
     "text": [
      "3/3 [==============================] - 2s 573ms/step - loss: 0.7621 - accuracy: 0.6622\n"
     ]
    },
    {
     "data": {
      "text/plain": [
       "[0.7621217966079712, 0.662229597568512]"
      ]
     },
     "execution_count": 24,
     "metadata": {},
     "output_type": "execute_result"
    }
   ],
   "source": [
    "model.evaluate(generators.test_generator)"
   ]
  },
  {
   "cell_type": "code",
   "execution_count": null,
   "metadata": {
    "pycharm": {
     "name": "#%%\n"
    }
   },
   "outputs": [],
   "source": []
  }
 ],
 "metadata": {
  "kernelspec": {
   "display_name": "Python 3 (ipykernel)",
   "language": "python",
   "name": "python3"
  },
  "language_info": {
   "codemirror_mode": {
    "name": "ipython",
    "version": 3
   },
   "file_extension": ".py",
   "mimetype": "text/x-python",
   "name": "python",
   "nbconvert_exporter": "python",
   "pygments_lexer": "ipython3",
   "version": "3.9.12"
  }
 },
 "nbformat": 4,
 "nbformat_minor": 1
}